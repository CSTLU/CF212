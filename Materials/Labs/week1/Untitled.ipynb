{
 "cells": [
  {
   "cell_type": "code",
   "execution_count": 1,
   "metadata": {},
   "outputs": [],
   "source": [
    "#include <iostream>\n",
    "using namespace std;"
   ]
  },
  {
   "cell_type": "code",
   "execution_count": 2,
   "metadata": {},
   "outputs": [],
   "source": [
    "#include <vector>"
   ]
  },
  {
   "cell_type": "code",
   "execution_count": 3,
   "metadata": {},
   "outputs": [],
   "source": [
    "vector<double> a(4);\n",
    "a[0] = 5;\n",
    "a[1] = 2;\n",
    "a[2] = 1;\n",
    "a[3] = 3;"
   ]
  },
  {
   "cell_type": "code",
   "execution_count": 4,
   "metadata": {},
   "outputs": [],
   "source": [
    "a.push_back(6);"
   ]
  },
  {
   "cell_type": "code",
   "execution_count": 6,
   "metadata": {},
   "outputs": [
    {
     "name": "stderr",
     "output_type": "stream",
     "text": [
      "\u001b[1minput_line_16:2:4: \u001b[0m\u001b[0;1;31merror: \u001b[0m\u001b[1mno member named 'push_front' in 'std::__1::vector<double,\n",
      "      std::__1::allocator<double> >'\u001b[0m\n",
      " a.push_front(1);\n",
      "\u001b[0;1;32m ~ ^\n",
      "\u001b[0m"
     ]
    },
    {
     "ename": "Interpreter Error",
     "evalue": "",
     "output_type": "error",
     "traceback": [
      "Interpreter Error: "
     ]
    }
   ],
   "source": [
    "a.push_front(1);"
   ]
  },
  {
   "cell_type": "code",
   "execution_count": 5,
   "metadata": {},
   "outputs": [
    {
     "data": {
      "text/plain": [
       "{ 5, 2, 1, 3, 6 }"
      ]
     },
     "execution_count": 5,
     "metadata": {},
     "output_type": "execute_result"
    }
   ],
   "source": [
    "a"
   ]
  },
  {
   "cell_type": "code",
   "execution_count": 10,
   "metadata": {},
   "outputs": [],
   "source": [
    "vector<double> b(8);\n",
    "b[0] = 5;\n",
    "b[1] = 2;\n",
    "b[2] = 1;\n",
    "b[3] = 3;\n",
    "b[4] = 2;\n",
    "b[5] = 1;\n",
    "b[6] = 30;\n",
    "b[7] = 31;"
   ]
  },
  {
   "cell_type": "code",
   "execution_count": 12,
   "metadata": {},
   "outputs": [
    {
     "name": "stderr",
     "output_type": "stream",
     "text": [
      "\u001b[1minput_line_25:2:17: \u001b[0m\u001b[0;1;31merror: \u001b[0m\u001b[1mredefinition of 'c'\u001b[0m\n",
      " vector<double> c;\n",
      "\u001b[0;1;32m                ^\n",
      "\u001b[0m\u001b[1minput_line_24:2:17: \u001b[0m\u001b[0;1;30mnote: \u001b[0mprevious definition is here\u001b[0m\n",
      " vector<double> c;\n",
      "\u001b[0;1;32m                ^\n",
      "\u001b[0m"
     ]
    },
    {
     "ename": "Interpreter Error",
     "evalue": "",
     "output_type": "error",
     "traceback": [
      "Interpreter Error: "
     ]
    }
   ],
   "source": [
    "vector<double> c;"
   ]
  },
  {
   "cell_type": "code",
   "execution_count": 13,
   "metadata": {},
   "outputs": [
    {
     "data": {
      "text/plain": [
       "5"
      ]
     },
     "execution_count": 13,
     "metadata": {},
     "output_type": "execute_result"
    }
   ],
   "source": [
    "a.size()"
   ]
  },
  {
   "cell_type": "code",
   "execution_count": 14,
   "metadata": {},
   "outputs": [],
   "source": [
    "for(int i =0, j = 0; i < a.size() && j < b.size();i++,j++)\n",
    "{\n",
    "    c.push_back(a[i]*b[j]);\n",
    "}\n",
    "if(a.size() > b.size())\n",
    "{\n",
    "    for(int i = b.size(); i < a.size();i++)\n",
    "    {\n",
    "        c.push_back(a[i]);\n",
    "    }\n",
    "}\n",
    "else\n",
    "{\n",
    "    for(int i = a.size(); i < b.size();i++)\n",
    "    {\n",
    "        c.push_back(b[i]);\n",
    "    }\n",
    "}"
   ]
  },
  {
   "cell_type": "code",
   "execution_count": 15,
   "metadata": {},
   "outputs": [
    {
     "data": {
      "text/plain": [
       "{ 25, 4, 1, 9, 12, 1, 30, 31 }"
      ]
     },
     "execution_count": 15,
     "metadata": {},
     "output_type": "execute_result"
    }
   ],
   "source": [
    "c"
   ]
  },
  {
   "cell_type": "code",
   "execution_count": 9,
   "metadata": {},
   "outputs": [
    {
     "name": "stdout",
     "output_type": "stream",
     "text": [
      "(std::vector<double> &) { 5.000000, 2.000000, 1.000000, 3.000000 }\n"
     ]
    }
   ],
   "source": [
    "a"
   ]
  },
  {
   "cell_type": "code",
   "execution_count": 10,
   "metadata": {},
   "outputs": [
    {
     "name": "stdout",
     "output_type": "stream",
     "text": [
      "(std::vector<double> &) { 5.000000, 2.000000, 1.000000, 3.000000, 2.000000, 1.000000, 30.000000, 31.000000 }\n"
     ]
    }
   ],
   "source": [
    "b"
   ]
  },
  {
   "cell_type": "code",
   "execution_count": null,
   "metadata": {},
   "outputs": [],
   "source": []
  }
 ],
 "metadata": {
  "kernelspec": {
   "display_name": "C++14",
   "language": "C++14",
   "name": "xeus-cling-cpp14"
  },
  "language_info": {
   "codemirror_mode": "text/x-c++src",
   "file_extension": ".cpp",
   "mimetype": "text/x-c++src",
   "name": "c++",
   "version": "-std=c++14"
  }
 },
 "nbformat": 4,
 "nbformat_minor": 2
}
