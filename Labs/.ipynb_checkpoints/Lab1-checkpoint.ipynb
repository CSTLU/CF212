{
 "cells": [
  {
   "cell_type": "markdown",
   "metadata": {},
   "source": [
    "## Tuần 1: Ôn tập C++ (Con trỏ)\n",
    "\n",
    "#### Giảng viên: Nguyễn Đức Thắng \n",
    "#### Email: thangdn@thanglong.edu.vn\n",
    "#### Số điện thoại: 0967953735"
   ]
  },
  {
   "cell_type": "markdown",
   "metadata": {},
   "source": [
    "### Phần I. Giới thiệu về kiểu dữ liệu ADT Vector.\n",
    "\n",
    "Vector có thể hiểu là một mảng có trình tự, giống như với danh sách liên kết hay một chuỗi thông thường nhưng “vector” khác với chuỗi hoăc mảng thông thường là chúng ta có thể thay đổi kích thước của nó. "
   ]
  },
  {
   "cell_type": "code",
   "execution_count": 7,
   "metadata": {},
   "outputs": [],
   "source": [
    "#include <vector> // Khai bái thư viện\n",
    "#include <iostream>\n",
    "using namespace std;"
   ]
  },
  {
   "cell_type": "code",
   "execution_count": 2,
   "metadata": {},
   "outputs": [],
   "source": [
    "vector<double> age(4); // a vector with 4 elements of type double\n",
    "age[0]=0.33;\n",
    "age[1]=22.0;\n",
    "age[2]=27.2;\n",
    "age[3]=54.2;"
   ]
  },
  {
   "cell_type": "code",
   "execution_count": 3,
   "metadata": {},
   "outputs": [
    {
     "name": "stdout",
     "output_type": "stream",
     "text": [
      "(std::vector<double> &) { 0.330000, 22.000000, 27.200000, 54.200000 }\n"
     ]
    }
   ],
   "source": [
    "age"
   ]
  },
  {
   "attachments": {
    "image.png": {
     "image/png": "[encoded data removed]"
    }
   },
   "cell_type": "markdown",
   "metadata": {},
   "source": [
    "![img/img1.png](attachment:image.png)\n",
    "\n",
    "#### Về cơ bản có thể hình dung class vector được thiết kế như sau"
   ]
  },
  {
   "cell_type": "markdown",
   "metadata": {},
   "source": [
    "```c++\n",
    "template <class T>\n",
    "class vector {\n",
    "    int sz; // the size\n",
    "    T* elem; // pointer to the first element (of type double)\n",
    "public:\n",
    "    vector(int s);  // constructor: allocate s doubles,\n",
    "                    // let elem point to them\n",
    "                    // store s in sz\n",
    "    int size() const { return sz; } // the current size\n",
    "};\n",
    "```"
   ]
  },
  {
   "cell_type": "markdown",
   "metadata": {},
   "source": [
    "## Tính linh động của vector so với array\n",
    "\n",
    "#### 1. Khởi tạo linh động \n",
    "Khởi tạo một vector không cần xác định số phần tử. Mặc định số phần tử là 0"
   ]
  },
  {
   "cell_type": "code",
   "execution_count": 4,
   "metadata": {},
   "outputs": [],
   "source": [
    "vector<double> second; //sizeof = 0"
   ]
  },
  {
   "cell_type": "markdown",
   "metadata": {},
   "source": [
    "#### 2. Các phương thức của vector\n",
    "1. **void push_back(item)** : Thêm một phần tử vào vector\n",
    "2. **void pop_back()** : Xóa một phần tử ở cuối khỏi vector\n",
    "3. **insert(pos, item)** : Chèn một phần tử vào vector \n",
    "4. **[]** : Truy xuất phần tử theo chỉ số \n",
    "5. **size()** : Trả về số lượng phần tử hiện tại có trong vector "
   ]
  },
  {
   "cell_type": "code",
   "execution_count": 5,
   "metadata": {},
   "outputs": [],
   "source": [
    "vector<double> first(4, 50); // first = { 50, 50, 50, 50}\n",
    "first.push_back (3.1);\n",
    "first.push_back (2.2);\n",
    "first.push_back (2.9);"
   ]
  },
  {
   "cell_type": "code",
   "execution_count": 6,
   "metadata": {},
   "outputs": [
    {
     "name": "stdout",
     "output_type": "stream",
     "text": [
      "(std::vector<double> &) { 50.000000, 50.000000, 50.000000, 50.000000, 3.100000, 2.200000, 2.900000 }\n"
     ]
    }
   ],
   "source": [
    "first"
   ]
  },
  {
   "cell_type": "code",
   "execution_count": 7,
   "metadata": {},
   "outputs": [
    {
     "name": "stdout",
     "output_type": "stream",
     "text": [
      "(double) 50.000000\n"
     ]
    }
   ],
   "source": [
    "first[2]"
   ]
  },
  {
   "cell_type": "code",
   "execution_count": 8,
   "metadata": {},
   "outputs": [
    {
     "name": "stdout",
     "output_type": "stream",
     "text": [
      "(std::vector<double> &) { 50.000000, 50.000000, 50.000000, 50.000000, 3.100000, 2.200000 }\n"
     ]
    }
   ],
   "source": [
    "first.pop_back();\n",
    "first"
   ]
  },
  {
   "cell_type": "code",
   "execution_count": 9,
   "metadata": {},
   "outputs": [
    {
     "name": "stdout",
     "output_type": "stream",
     "text": [
      "2.2\n",
      "2.9"
     ]
    }
   ],
   "source": [
    "cout << first.at(5) << endl << first[6]; "
   ]
  },
  {
   "cell_type": "markdown",
   "metadata": {},
   "source": [
    "Với phương thức **swap()** cho phép hoán đổi nội dung giữa 2 vector, để hiểu rõ chức năng của nó xem ví dụ sau đây:"
   ]
  },
  {
   "cell_type": "code",
   "execution_count": 10,
   "metadata": {},
   "outputs": [],
   "source": [
    "vector<int> foo (3,100);   // three ints with a value of 100\n",
    "vector<int> bar (5,200);   // five ints with a value of 200"
   ]
  },
  {
   "cell_type": "code",
   "execution_count": 11,
   "metadata": {},
   "outputs": [
    {
     "name": "stdout",
     "output_type": "stream",
     "text": [
      "(std::vector<int> &) { 100, 100, 100 }\n"
     ]
    }
   ],
   "source": [
    "foo"
   ]
  },
  {
   "cell_type": "code",
   "execution_count": 12,
   "metadata": {},
   "outputs": [
    {
     "name": "stdout",
     "output_type": "stream",
     "text": [
      "(std::vector<int> &) { 200, 200, 200, 200, 200 }\n"
     ]
    }
   ],
   "source": [
    "bar"
   ]
  },
  {
   "cell_type": "code",
   "execution_count": 13,
   "metadata": {},
   "outputs": [],
   "source": [
    "foo.swap(bar);"
   ]
  },
  {
   "cell_type": "code",
   "execution_count": 14,
   "metadata": {},
   "outputs": [
    {
     "name": "stdout",
     "output_type": "stream",
     "text": [
      "(std::vector<int> &) { 200, 200, 200, 200, 200 }\n"
     ]
    }
   ],
   "source": [
    "foo"
   ]
  },
  {
   "cell_type": "code",
   "execution_count": 15,
   "metadata": {},
   "outputs": [
    {
     "name": "stdout",
     "output_type": "stream",
     "text": [
      "(std::vector<int> &) { 100, 100, 100 }\n"
     ]
    }
   ],
   "source": [
    "bar"
   ]
  },
  {
   "cell_type": "markdown",
   "metadata": {},
   "source": [
    "Với phương thức **empty()** cho phép kiểm tra “vector” có rỗng hay không, nếu có sẽ trả về true và ngược lại:"
   ]
  },
  {
   "cell_type": "code",
   "execution_count": 16,
   "metadata": {},
   "outputs": [
    {
     "name": "stdout",
     "output_type": "stream",
     "text": [
      "No values in second \n"
     ]
    }
   ],
   "source": [
    "if(second.empty() == true)\n",
    "{\n",
    "       cout << \"No values in second \\n\";\n",
    "}"
   ]
  },
  {
   "cell_type": "code",
   "execution_count": 17,
   "metadata": {},
   "outputs": [
    {
     "name": "stdout",
     "output_type": "stream",
     "text": [
      "6"
     ]
    }
   ],
   "source": [
    "cout<<first.size();"
   ]
  },
  {
   "cell_type": "markdown",
   "metadata": {},
   "source": [
    "Dùng hàm **clear()** để xóa hết các phần tử của “vector”:"
   ]
  },
  {
   "cell_type": "code",
   "execution_count": 18,
   "metadata": {},
   "outputs": [],
   "source": [
    "first.push_back (3.1);\n",
    "first.push_back (2.2);\n",
    "first.push_back (2.9);\n",
    " \n",
    "first.clear();"
   ]
  },
  {
   "attachments": {
    "image.png": {
     "image/png": "[encoded data removed]"
    }
   },
   "cell_type": "markdown",
   "metadata": {},
   "source": [
    "### Phần 2: Memory, addresses, and pointers\n",
    "\n",
    "Khi chúng ta khởi tạo một biến tức đồng nghĩa chúng ta đặt giá trị vào một địa chỉ ô nhớ.\n",
    "![img/img2.png](attachment:image.png)"
   ]
  },
  {
   "cell_type": "code",
   "execution_count": 19,
   "metadata": {},
   "outputs": [],
   "source": [
    "int var = 17;"
   ]
  },
  {
   "cell_type": "markdown",
   "metadata": {},
   "source": [
    "Giả sử chúng ta muốn lưu trữ địa chỉ ô nhớ của biến var. Chúng ta có khái niệm **con trỏ**."
   ]
  },
  {
   "cell_type": "code",
   "execution_count": 20,
   "metadata": {},
   "outputs": [],
   "source": [
    "int* ptr = &var;// ptr holds the address of var"
   ]
  },
  {
   "cell_type": "markdown",
   "metadata": {},
   "source": [
    "Toán tử **&** được sử dụng để lấy địa chỉ của một đối tượng. Như vậy biến **var** là địa chỉ ô nhớ là"
   ]
  },
  {
   "cell_type": "code",
   "execution_count": 21,
   "metadata": {},
   "outputs": [
    {
     "name": "stdout",
     "output_type": "stream",
     "text": [
      "(int *) 0x7ff1bc9bc138\n"
     ]
    }
   ],
   "source": [
    "ptr"
   ]
  },
  {
   "attachments": {
    "image.png": {
     "image/png": "[encoded data removed]"
    }
   },
   "cell_type": "markdown",
   "metadata": {},
   "source": [
    "Giả sử địa chỉ của **var** nhận được là 0x4096. Như vậy ptr sẽ có giá trị tương ứng là 0x4096 ~ $2^{12}$.\n",
    "![img/img3.png](attachment:image.png)"
   ]
  },
  {
   "cell_type": "code",
   "execution_count": 22,
   "metadata": {},
   "outputs": [],
   "source": [
    "int x = 17;\n",
    "int* pii = &x; // pointer to int\n",
    "double e = 2.71828;\n",
    "double* pdi = &e; // pointer to double"
   ]
  },
  {
   "cell_type": "code",
   "execution_count": 23,
   "metadata": {},
   "outputs": [
    {
     "name": "stdout",
     "output_type": "stream",
     "text": [
      "(double *) 0x7ff1bc9bc160\n"
     ]
    }
   ],
   "source": [
    "pdi"
   ]
  },
  {
   "cell_type": "markdown",
   "metadata": {},
   "source": [
    "Nếu chúng ta muốn lấy giá trị trực tiếp thông qua địa chỉ ta chỉ cần sử dụng toán tử **\\***"
   ]
  },
  {
   "cell_type": "code",
   "execution_count": 24,
   "metadata": {},
   "outputs": [
    {
     "name": "stdout",
     "output_type": "stream",
     "text": [
      "(double) 2.718280\n"
     ]
    }
   ],
   "source": [
    "*pdi"
   ]
  },
  {
   "cell_type": "code",
   "execution_count": 25,
   "metadata": {},
   "outputs": [
    {
     "name": "stdout",
     "output_type": "stream",
     "text": [
      "(int) 17\n"
     ]
    }
   ],
   "source": [
    "*pii"
   ]
  },
  {
   "cell_type": "code",
   "execution_count": 26,
   "metadata": {},
   "outputs": [],
   "source": [
    "char ch1 = 'a';\n",
    "char ch2 = 'b';\n",
    "char ch3 = 'c';\n",
    "char ch4 = 'd';\n",
    "char* pix = &ch3;"
   ]
  },
  {
   "cell_type": "code",
   "execution_count": 27,
   "metadata": {},
   "outputs": [
    {
     "name": "stdout",
     "output_type": "stream",
     "text": [
      "(char) 'c'\n"
     ]
    }
   ],
   "source": [
    "*pix"
   ]
  },
  {
   "attachments": {
    "image.png": {
     "image/png": "[encoded data removed]"
    }
   },
   "cell_type": "markdown",
   "metadata": {},
   "source": [
    "![img/img4.png](attachment:image.png)"
   ]
  },
  {
   "attachments": {
    "image.png": {
     "image/png": "[encoded data removed]"
    }
   },
   "cell_type": "markdown",
   "metadata": {},
   "source": [
    "#### Free store and pointers - Cấp phát động \n",
    "Một sự hiểu biết sâu về cách bộ nhớ động thực sự làm việc trong C/C++ là cốt yếu để trở thành một lập trình viên C/C++ giỏi. Bộ nhớ trong chương trình C/C++ của bạn được phân thành hai phần:\n",
    "\n",
    "* **Stack**: Tất cả biến được khai báo bên trong hàm sẽ nhận bộ nhớ từ stack trong C/C++.\n",
    "\n",
    "* **Free store (Heap)**: Được sử dụng để cấp phát bộ nhớ động khi chương trình chạy.\n",
    "![img/img5.png](attachment:image.png)\n",
    "\n",
    "Thường thì ta không biết trước bao nhiêu bộ nhớ bạn sẽ cần để lưu thông tin cụ thể trong một biến đã được định nghĩa và kích cỡ bộ nhớ cần thiết có thể được quyết định tại run time.\n",
    "\n",
    "Bạn có thể cấp phát bộ nhớ tại run time bên trong Heap cho biến đó với một kiểu đã cho bởi sử dụng một toán tử đặc biệt trong C/C++ mà trả về địa chỉ của không gian đã cấp phát. Toán tử này gọi là toán tử **new** trong C/C++.\n",
    "\n",
    "Nếu bạn không cần thiết bộ nhớ động đã cấp phát nữa, ta có thể sử dụng toán tử **delete** trong C/C++, sẽ giải phóng bộ nhớ đã được cấp phát trước đó bởi toán tử **new**."
   ]
  },
  {
   "cell_type": "code",
   "execution_count": 28,
   "metadata": {},
   "outputs": [],
   "source": [
    "// Cấp phát vùng nhớ\n",
    "double *arr = new double; // Cấp phát con trỏ int a\n",
    "int n = 10;\n",
    "int *p = new int[n]; // Cấp phát mảng int arr n phần tử\n",
    " \n",
    "// Xoá vùng nhớ\n",
    "delete arr; // Xoá con trỏ\n",
    "delete[] p; // Xoá mảng động"
   ]
  },
  {
   "attachments": {
    "image.png": {
     "image/png": "[encoded data removed]"
    }
   },
   "cell_type": "markdown",
   "metadata": {},
   "source": [
    "![img/img6.png](attachment:image.png)"
   ]
  },
  {
   "cell_type": "code",
   "execution_count": 29,
   "metadata": {},
   "outputs": [],
   "source": [
    "int* pi = new int;\n",
    "int* qi = new int[4]; // allocate one int\n",
    "// allocate 4 ints (an array of 4 ints)\n",
    "double* pd = new double;\n",
    "double* qd = new double[n]; // allocate one double\n",
    "// allocate n doubles (an array of n doubles)"
   ]
  },
  {
   "attachments": {
    "image.png": {
     "image/png": "[encoded data removed]"
    }
   },
   "cell_type": "markdown",
   "metadata": {},
   "source": [
    "![img/img7.png](attachment:image.png)"
   ]
  },
  {
   "cell_type": "markdown",
   "metadata": {},
   "source": [
    "#### Truy xuất các phần tử trong mảng động "
   ]
  },
  {
   "cell_type": "code",
   "execution_count": 30,
   "metadata": {},
   "outputs": [],
   "source": [
    "double* pc = new double[4];// allocate 4 doubles on the free store\n",
    "double xc = *pc; // read the (first) object pointed to by p\n",
    "double yc = pc[2]; // read the 3rd object pointed to by p"
   ]
  },
  {
   "cell_type": "code",
   "execution_count": 31,
   "metadata": {},
   "outputs": [
    {
     "name": "stdout",
     "output_type": "stream",
     "text": [
      "(double) 0.000000\n"
     ]
    }
   ],
   "source": [
    "xc"
   ]
  },
  {
   "cell_type": "code",
   "execution_count": 32,
   "metadata": {},
   "outputs": [
    {
     "name": "stdout",
     "output_type": "stream",
     "text": [
      "(double) 62183289155097584584720350502526582656388213139763713719448292850826136845857531898307640988239856300874899184532375406353310359351114389212045850250235707716316298890002300928.000000\n"
     ]
    }
   ],
   "source": [
    "yc"
   ]
  },
  {
   "cell_type": "code",
   "execution_count": 33,
   "metadata": {},
   "outputs": [],
   "source": [
    "*pc = 7.7; // write to the (first) object pointed to by p\n",
    "pc[2] = 9.9; // write to the 3rd object pointed to by p"
   ]
  },
  {
   "cell_type": "code",
   "execution_count": 34,
   "metadata": {},
   "outputs": [
    {
     "name": "stdout",
     "output_type": "stream",
     "text": [
      "7.7 4.72298e+170 9.9 1.3493e+241 "
     ]
    }
   ],
   "source": [
    "for(int i = 0;i< 4;i++)\n",
    "    cout<<pc[i]<<\" \";"
   ]
  },
  {
   "cell_type": "code",
   "execution_count": 35,
   "metadata": {},
   "outputs": [
    {
     "name": "stdout",
     "output_type": "stream",
     "text": [
      "(double) 7.700000\n"
     ]
    }
   ],
   "source": [
    "*pc"
   ]
  },
  {
   "cell_type": "code",
   "execution_count": 36,
   "metadata": {},
   "outputs": [
    {
     "name": "stdout",
     "output_type": "stream",
     "text": [
      "(double) 9.900000\n"
     ]
    }
   ],
   "source": [
    "*(pc+2)"
   ]
  },
  {
   "cell_type": "code",
   "execution_count": 37,
   "metadata": {},
   "outputs": [],
   "source": [
    "double* pz = new double; // allocate a double\n",
    "double* qz = new double[1000]; // allocate 1000 doubles\n",
    "\n",
    "qz[700] = 7.7;// fine"
   ]
  },
  {
   "cell_type": "code",
   "execution_count": 38,
   "metadata": {},
   "outputs": [],
   "source": [
    "qz = pz; // let q point to the same as p"
   ]
  },
  {
   "cell_type": "code",
   "execution_count": 39,
   "metadata": {},
   "outputs": [
    {
     "name": "stdout",
     "output_type": "stream",
     "text": [
      "(double) 0.000000\n"
     ]
    }
   ],
   "source": [
    "*qz"
   ]
  },
  {
   "cell_type": "code",
   "execution_count": 40,
   "metadata": {},
   "outputs": [
    {
     "name": "stdout",
     "output_type": "stream",
     "text": [
      "2.41156e-316"
     ]
    }
   ],
   "source": [
    "cout<<qz[700]; // out-of-range access!"
   ]
  },
  {
   "attachments": {
    "image.png": {
     "image/png": "[encoded data removed]"
    }
   },
   "cell_type": "markdown",
   "metadata": {},
   "source": [
    "![img/img8.png](attachment:image.png)"
   ]
  },
  {
   "cell_type": "markdown",
   "metadata": {},
   "source": [
    "#### Khởi tạo cấp phát động "
   ]
  },
  {
   "cell_type": "code",
   "execution_count": 40,
   "metadata": {},
   "outputs": [],
   "source": [
    "double* p0;\n",
    "double* p1 = new double;\n",
    "double* p2 = new double{5.5};\n",
    "double* p3 = new double[5];"
   ]
  },
  {
   "cell_type": "code",
   "execution_count": 41,
   "metadata": {},
   "outputs": [],
   "source": [
    "double* p4 = new double[5] {0,1,2,3,4};"
   ]
  },
  {
   "cell_type": "markdown",
   "metadata": {},
   "source": [
    "### The null pointer"
   ]
  },
  {
   "cell_type": "code",
   "execution_count": 42,
   "metadata": {},
   "outputs": [],
   "source": [
    "double *p5 = nullptr;// the null pointer"
   ]
  },
  {
   "cell_type": "code",
   "execution_count": 43,
   "metadata": {},
   "outputs": [
    {
     "name": "stdout",
     "output_type": "stream",
     "text": [
      "null pointer"
     ]
    }
   ],
   "source": [
    "if(p5 == nullptr)\n",
    "    cout<<\"null pointer\";\n",
    "else\n",
    "    cout<<\"not null pointer\";"
   ]
  },
  {
   "cell_type": "code",
   "execution_count": 44,
   "metadata": {},
   "outputs": [
    {
     "name": "stderr",
     "output_type": "stream",
     "text": [
      "input_line_71:2:3: warning: null passed to a callee that requires a non-null argument [-Wnonnull]\n",
      " *p5\n",
      "  ^~\n"
     ]
    }
   ],
   "source": [
    "*p5"
   ]
  },
  {
   "cell_type": "code",
   "execution_count": 45,
   "metadata": {},
   "outputs": [],
   "source": [
    "delete p5;"
   ]
  },
  {
   "cell_type": "markdown",
   "metadata": {},
   "source": [
    "### Xây dựng class vector "
   ]
  },
  {
   "cell_type": "markdown",
   "metadata": {},
   "source": [
    "```c++\n",
    "class vector {\n",
    "    int sz;\n",
    "    double* elem;\n",
    "public:\n",
    "    vector(int s):sz{s},elem{new double[s]}\n",
    "    {\n",
    "        for (int i=0; i<s; ++i) elem[i]=0;\n",
    "    }\n",
    "    \n",
    "    int size() const { return sz; }\n",
    "    // . . .\n",
    "    double get(int n) const \n",
    "    { \n",
    "        return elem[n]; \n",
    "    }\n",
    "    void set(int n, double v) \n",
    "    { \n",
    "        elem[n]=v; \n",
    "    }\n",
    "    ~vector()\n",
    "    { \n",
    "        delete[] elem; \n",
    "    }\n",
    "};\n",
    "```"
   ]
  },
  {
   "cell_type": "code",
   "execution_count": 1,
   "metadata": {},
   "outputs": [],
   "source": [
    "class vectorCF212 {\n",
    "    int sz;\n",
    "    double* elem;\n",
    "public:\n",
    "    vectorCF212(int s):sz{s},elem{new double[s]}\n",
    "    {\n",
    "        for (int i=0; i<s; ++i) elem[i]=0;\n",
    "    }\n",
    "    \n",
    "    int size() const { return sz; }\n",
    "    // . . .\n",
    "    double get(int n) const \n",
    "    { \n",
    "        return elem[n]; \n",
    "    }\n",
    "    void set(int n, double v) \n",
    "    { \n",
    "        elem[n]=v; \n",
    "    }\n",
    "    ~vectorCF212()\n",
    "    { \n",
    "        delete[] elem; \n",
    "    }\n",
    "};"
   ]
  },
  {
   "cell_type": "code",
   "execution_count": 3,
   "metadata": {},
   "outputs": [],
   "source": [
    "vectorCF212 newVar(10);"
   ]
  },
  {
   "cell_type": "code",
   "execution_count": 4,
   "metadata": {},
   "outputs": [
    {
     "name": "stdout",
     "output_type": "stream",
     "text": [
      "(int) 10\n"
     ]
    }
   ],
   "source": [
    "newVar.size()"
   ]
  },
  {
   "cell_type": "code",
   "execution_count": 5,
   "metadata": {},
   "outputs": [
    {
     "name": "stdout",
     "output_type": "stream",
     "text": [
      "(double) 10.000000\n"
     ]
    }
   ],
   "source": [
    "newVar.set(5,10);\n",
    "newVar.get(5)"
   ]
  },
  {
   "cell_type": "code",
   "execution_count": 8,
   "metadata": {},
   "outputs": [
    {
     "name": "stdout",
     "output_type": "stream",
     "text": [
      "0 0 0 0 0 10 0 0 0 0 "
     ]
    }
   ],
   "source": [
    "for(int i = 0; i< newVar.size();i++)\n",
    "    cout<<newVar.get(i)<<\" \";"
   ]
  },
  {
   "cell_type": "markdown",
   "metadata": {},
   "source": [
    "### Pointers to class objects\n",
    "\n",
    "Ta cần dùng toán tử truy xuất **->**"
   ]
  },
  {
   "cell_type": "code",
   "execution_count": 9,
   "metadata": {},
   "outputs": [],
   "source": [
    "vectorCF212 *newObjectPtr = new vectorCF212(10);"
   ]
  },
  {
   "cell_type": "code",
   "execution_count": 10,
   "metadata": {},
   "outputs": [
    {
     "name": "stdout",
     "output_type": "stream",
     "text": [
      "(int) 10\n"
     ]
    }
   ],
   "source": [
    "newObjectPtr->size()"
   ]
  },
  {
   "cell_type": "code",
   "execution_count": 11,
   "metadata": {},
   "outputs": [
    {
     "name": "stdout",
     "output_type": "stream",
     "text": [
      "(vectorCF212 &) @0x4c32af0\n"
     ]
    }
   ],
   "source": [
    "*newObjectPtr"
   ]
  },
  {
   "cell_type": "code",
   "execution_count": 12,
   "metadata": {},
   "outputs": [],
   "source": [
    "newObjectPtr->set(5,10);"
   ]
  },
  {
   "cell_type": "code",
   "execution_count": 13,
   "metadata": {},
   "outputs": [
    {
     "name": "stdout",
     "output_type": "stream",
     "text": [
      "(double) 10.000000\n"
     ]
    }
   ],
   "source": [
    "newObjectPtr->get(5)"
   ]
  },
  {
   "cell_type": "code",
   "execution_count": 14,
   "metadata": {},
   "outputs": [
    {
     "name": "stdout",
     "output_type": "stream",
     "text": [
      "0 0 0 0 0 10 0 0 0 0 "
     ]
    }
   ],
   "source": [
    "for(int i = 0; i< newObjectPtr->size();i++)\n",
    "    cout<<newObjectPtr->get(i)<<\" \";"
   ]
  },
  {
   "cell_type": "code",
   "execution_count": 15,
   "metadata": {},
   "outputs": [],
   "source": [
    "delete newObjectPtr;"
   ]
  },
  {
   "cell_type": "markdown",
   "metadata": {},
   "source": [
    "### Cấp phát bộ nhớ động cho đối tượng\n"
   ]
  },
  {
   "cell_type": "code",
   "execution_count": 16,
   "metadata": {},
   "outputs": [],
   "source": [
    "class NhanVien\n",
    "{\n",
    "   public:\n",
    "      NhanVien() { \n",
    "         cout << \"Constructor duoc goi!\" <<endl; \n",
    "         \n",
    "      }\n",
    "      ~NhanVien() { \n",
    "         cout << \"Destructor duoc goi!\" <<endl; \n",
    "         \n",
    "      }\n",
    "};"
   ]
  },
  {
   "cell_type": "code",
   "execution_count": 17,
   "metadata": {},
   "outputs": [
    {
     "name": "stdout",
     "output_type": "stream",
     "text": [
      "Constructor duoc goi!\n",
      "Constructor duoc goi!\n",
      "Constructor duoc goi!\n",
      "Constructor duoc goi!\n",
      "Constructor duoc goi!\n",
      "Destructor duoc goi!\n",
      "Destructor duoc goi!\n",
      "Destructor duoc goi!\n",
      "Destructor duoc goi!\n",
      "Destructor duoc goi!\n"
     ]
    }
   ],
   "source": [
    "NhanVien* mangNhanVien = new NhanVien[5];\n",
    "delete [] mangNhanVien; // xoa mang"
   ]
  },
  {
   "cell_type": "code",
   "execution_count": null,
   "metadata": {},
   "outputs": [],
   "source": []
  },
  {
   "cell_type": "code",
   "execution_count": null,
   "metadata": {},
   "outputs": [],
   "source": []
  }
 ],
 "metadata": {
  "kernelspec": {
   "display_name": "xeus C++11",
   "language": "",
   "name": "xeus-cling-cpp11"
  },
  "language_info": {
   "codemirror_mode": "text/x-c++src",
   "file_extension": ".cpp",
   "mimetype": "text/x-c++src",
   "name": "c++",
   "version": ""
  }
 },
 "nbformat": 4,
 "nbformat_minor": 2
}
